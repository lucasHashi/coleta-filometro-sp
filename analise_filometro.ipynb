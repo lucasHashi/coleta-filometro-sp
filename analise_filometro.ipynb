{
 "metadata": {
  "language_info": {
   "codemirror_mode": {
    "name": "ipython",
    "version": 3
   },
   "file_extension": ".py",
   "mimetype": "text/x-python",
   "name": "python",
   "nbconvert_exporter": "python",
   "pygments_lexer": "ipython3",
   "version": "3.8.10"
  },
  "orig_nbformat": 4,
  "kernelspec": {
   "name": "python3",
   "display_name": "Python 3.8.10 64-bit ('analise-dados': conda)"
  },
  "interpreter": {
   "hash": "f6fb459b994fb62f5c344bb018387e86022e13157b019915171a6521b456dee3"
  }
 },
 "nbformat": 4,
 "nbformat_minor": 2,
 "cells": [
  {
   "cell_type": "code",
   "execution_count": 1,
   "metadata": {},
   "outputs": [],
   "source": [
    "import pandas as pd\n",
    "import sqlite3\n",
    "\n",
    "ARQUIVO_BASE_FILOMENTRO = 'db_filometro.db'"
   ]
  },
  {
   "cell_type": "code",
   "execution_count": 12,
   "metadata": {},
   "outputs": [
    {
     "output_type": "execute_result",
     "data": {
      "text/plain": [
       "          categoria                                             titulo  \\\n",
       "0     posto volante  ama/ubs integrada jardim paulistano / igreja b...   \n",
       "1     posto volante                ubs vila terezinha / creche batuira   \n",
       "2     posto volante  ubs casa verde / paróquia nossa senhora das dores   \n",
       "3     posto volante                         posto volante center norte   \n",
       "4     posto volante                          shopping metrô santa cruz   \n",
       "...             ...                                                ...   \n",
       "2071            sul  ubs parque imperial - prof. manoel a. s. saragoça   \n",
       "2072            sul                            ubs prof. milton santos   \n",
       "2073            sul                                       ubs veleiros   \n",
       "2074            sul                              ubs jardim das palmas   \n",
       "2079            sul                           crhmtpis bosque da saúde   \n",
       "\n",
       "        modalidade                                           endereco  \\\n",
       "0     post_volante  igreja r. aparecida do taboado,505 - jd paulis...   \n",
       "1     post_volante  creche batuira r. jorge píres ramalho, 70 - vi...   \n",
       "2     post_volante                r. antonieta, 19 - casa verde baixa   \n",
       "3     post_volante                             rua otto baumgart, 500   \n",
       "4     post_volante       rua domingos de morais (acesso pela externa)   \n",
       "...            ...                                                ...   \n",
       "2071    posto_fixo           r. major freire, 510 - vila monte alegre   \n",
       "2072    posto_fixo                 av. ceci, 2249 - planalto paulista   \n",
       "2073    posto_fixo                 av. clara mantelli, 185 - veleiros   \n",
       "2074    posto_fixo          r. francisco de sales, 10 - jd das palmas   \n",
       "2079    posto_fixo                           rua joão baptistussi, 55   \n",
       "\n",
       "           cep telefone_1 telefone_2    situacao data_atualizacao  \\\n",
       "0         None       None       None    sem_fila       28/06/2021   \n",
       "1         None       None       None    sem_fila       28/06/2021   \n",
       "2     02517070   39500236   39660247    sem_fila       28/06/2021   \n",
       "3         None       None       None    sem_fila       28/06/2021   \n",
       "4         None       None       None    sem_fila       28/06/2021   \n",
       "...        ...        ...        ...         ...              ...   \n",
       "2071  04304110   55941532       None    sem_fila       28/06/2021   \n",
       "2072  04065004   55810426       None  fila_media       28/06/2021   \n",
       "2073  04771180   56815520   56870639  fila_media       28/06/2021   \n",
       "2074  05749280   58438340   58438460    sem_fila       28/06/2021   \n",
       "2079      None       None       None    sem_fila       28/06/2021   \n",
       "\n",
       "     horario_atualizacao horario_aproximado  \n",
       "0                  12:56              13:00  \n",
       "1                  13:00              13:00  \n",
       "2                  13:00              13:00  \n",
       "3                  12:55              13:00  \n",
       "4                  12:51              13:00  \n",
       "...                  ...                ...  \n",
       "2071               16:48              17:00  \n",
       "2072               16:57              17:00  \n",
       "2073               16:53              17:00  \n",
       "2074               16:53              17:00  \n",
       "2079               16:50              17:00  \n",
       "\n",
       "[1456 rows x 11 columns]"
      ],
      "text/html": "<div>\n<style scoped>\n    .dataframe tbody tr th:only-of-type {\n        vertical-align: middle;\n    }\n\n    .dataframe tbody tr th {\n        vertical-align: top;\n    }\n\n    .dataframe thead th {\n        text-align: right;\n    }\n</style>\n<table border=\"1\" class=\"dataframe\">\n  <thead>\n    <tr style=\"text-align: right;\">\n      <th></th>\n      <th>categoria</th>\n      <th>titulo</th>\n      <th>modalidade</th>\n      <th>endereco</th>\n      <th>cep</th>\n      <th>telefone_1</th>\n      <th>telefone_2</th>\n      <th>situacao</th>\n      <th>data_atualizacao</th>\n      <th>horario_atualizacao</th>\n      <th>horario_aproximado</th>\n    </tr>\n  </thead>\n  <tbody>\n    <tr>\n      <th>0</th>\n      <td>posto volante</td>\n      <td>ama/ubs integrada jardim paulistano / igreja b...</td>\n      <td>post_volante</td>\n      <td>igreja r. aparecida do taboado,505 - jd paulis...</td>\n      <td>None</td>\n      <td>None</td>\n      <td>None</td>\n      <td>sem_fila</td>\n      <td>28/06/2021</td>\n      <td>12:56</td>\n      <td>13:00</td>\n    </tr>\n    <tr>\n      <th>1</th>\n      <td>posto volante</td>\n      <td>ubs vila terezinha / creche batuira</td>\n      <td>post_volante</td>\n      <td>creche batuira r. jorge píres ramalho, 70 - vi...</td>\n      <td>None</td>\n      <td>None</td>\n      <td>None</td>\n      <td>sem_fila</td>\n      <td>28/06/2021</td>\n      <td>13:00</td>\n      <td>13:00</td>\n    </tr>\n    <tr>\n      <th>2</th>\n      <td>posto volante</td>\n      <td>ubs casa verde / paróquia nossa senhora das dores</td>\n      <td>post_volante</td>\n      <td>r. antonieta, 19 - casa verde baixa</td>\n      <td>02517070</td>\n      <td>39500236</td>\n      <td>39660247</td>\n      <td>sem_fila</td>\n      <td>28/06/2021</td>\n      <td>13:00</td>\n      <td>13:00</td>\n    </tr>\n    <tr>\n      <th>3</th>\n      <td>posto volante</td>\n      <td>posto volante center norte</td>\n      <td>post_volante</td>\n      <td>rua otto baumgart, 500</td>\n      <td>None</td>\n      <td>None</td>\n      <td>None</td>\n      <td>sem_fila</td>\n      <td>28/06/2021</td>\n      <td>12:55</td>\n      <td>13:00</td>\n    </tr>\n    <tr>\n      <th>4</th>\n      <td>posto volante</td>\n      <td>shopping metrô santa cruz</td>\n      <td>post_volante</td>\n      <td>rua domingos de morais (acesso pela externa)</td>\n      <td>None</td>\n      <td>None</td>\n      <td>None</td>\n      <td>sem_fila</td>\n      <td>28/06/2021</td>\n      <td>12:51</td>\n      <td>13:00</td>\n    </tr>\n    <tr>\n      <th>...</th>\n      <td>...</td>\n      <td>...</td>\n      <td>...</td>\n      <td>...</td>\n      <td>...</td>\n      <td>...</td>\n      <td>...</td>\n      <td>...</td>\n      <td>...</td>\n      <td>...</td>\n      <td>...</td>\n    </tr>\n    <tr>\n      <th>2071</th>\n      <td>sul</td>\n      <td>ubs parque imperial - prof. manoel a. s. saragoça</td>\n      <td>posto_fixo</td>\n      <td>r. major freire, 510 - vila monte alegre</td>\n      <td>04304110</td>\n      <td>55941532</td>\n      <td>None</td>\n      <td>sem_fila</td>\n      <td>28/06/2021</td>\n      <td>16:48</td>\n      <td>17:00</td>\n    </tr>\n    <tr>\n      <th>2072</th>\n      <td>sul</td>\n      <td>ubs prof. milton santos</td>\n      <td>posto_fixo</td>\n      <td>av. ceci, 2249 - planalto paulista</td>\n      <td>04065004</td>\n      <td>55810426</td>\n      <td>None</td>\n      <td>fila_media</td>\n      <td>28/06/2021</td>\n      <td>16:57</td>\n      <td>17:00</td>\n    </tr>\n    <tr>\n      <th>2073</th>\n      <td>sul</td>\n      <td>ubs veleiros</td>\n      <td>posto_fixo</td>\n      <td>av. clara mantelli, 185 - veleiros</td>\n      <td>04771180</td>\n      <td>56815520</td>\n      <td>56870639</td>\n      <td>fila_media</td>\n      <td>28/06/2021</td>\n      <td>16:53</td>\n      <td>17:00</td>\n    </tr>\n    <tr>\n      <th>2074</th>\n      <td>sul</td>\n      <td>ubs jardim das palmas</td>\n      <td>posto_fixo</td>\n      <td>r. francisco de sales, 10 - jd das palmas</td>\n      <td>05749280</td>\n      <td>58438340</td>\n      <td>58438460</td>\n      <td>sem_fila</td>\n      <td>28/06/2021</td>\n      <td>16:53</td>\n      <td>17:00</td>\n    </tr>\n    <tr>\n      <th>2079</th>\n      <td>sul</td>\n      <td>crhmtpis bosque da saúde</td>\n      <td>posto_fixo</td>\n      <td>rua joão baptistussi, 55</td>\n      <td>None</td>\n      <td>None</td>\n      <td>None</td>\n      <td>sem_fila</td>\n      <td>28/06/2021</td>\n      <td>16:50</td>\n      <td>17:00</td>\n    </tr>\n  </tbody>\n</table>\n<p>1456 rows × 11 columns</p>\n</div>"
     },
     "metadata": {},
     "execution_count": 12
    }
   ],
   "source": [
    "conn = sqlite3.connect(ARQUIVO_BASE_FILOMENTRO)\n",
    "df_filometro_sp = pd.read_sql_query('''\n",
    "        SELECT categoria, titulo, modalidade, endereco, cep, telefone_1, telefone_2, situacao, data_atualizacao, horario_atualizacao, horario_aproximado\n",
    "        from situacao_postos_sp\n",
    "    ''',\n",
    "    conn\n",
    ")\n",
    "\n",
    "df_filometro_sp.drop_duplicates(inplace=True)\n",
    "\n",
    "df_filometro_sp"
   ]
  },
  {
   "cell_type": "code",
   "execution_count": 13,
   "metadata": {},
   "outputs": [
    {
     "output_type": "execute_result",
     "data": {
      "text/plain": [
       "          categoria                                             titulo  \\\n",
       "0     posto volante  ama/ubs integrada jardim paulistano / igreja b...   \n",
       "1     posto volante                ubs vila terezinha / creche batuira   \n",
       "2     posto volante  ubs casa verde / paróquia nossa senhora das dores   \n",
       "3     posto volante                         posto volante center norte   \n",
       "4     posto volante                          shopping metrô santa cruz   \n",
       "...             ...                                                ...   \n",
       "2071            sul  ubs parque imperial - prof. manoel a. s. saragoça   \n",
       "2072            sul                            ubs prof. milton santos   \n",
       "2073            sul                                       ubs veleiros   \n",
       "2074            sul                              ubs jardim das palmas   \n",
       "2079            sul                           crhmtpis bosque da saúde   \n",
       "\n",
       "        modalidade                                           endereco  \\\n",
       "0     post_volante  igreja r. aparecida do taboado,505 - jd paulis...   \n",
       "1     post_volante  creche batuira r. jorge píres ramalho, 70 - vi...   \n",
       "2     post_volante                r. antonieta, 19 - casa verde baixa   \n",
       "3     post_volante                             rua otto baumgart, 500   \n",
       "4     post_volante       rua domingos de morais (acesso pela externa)   \n",
       "...            ...                                                ...   \n",
       "2071    posto_fixo           r. major freire, 510 - vila monte alegre   \n",
       "2072    posto_fixo                 av. ceci, 2249 - planalto paulista   \n",
       "2073    posto_fixo                 av. clara mantelli, 185 - veleiros   \n",
       "2074    posto_fixo          r. francisco de sales, 10 - jd das palmas   \n",
       "2079    posto_fixo                           rua joão baptistussi, 55   \n",
       "\n",
       "           cep telefone_1 telefone_2    situacao data_atualizacao  \\\n",
       "0         None       None       None    sem_fila       28/06/2021   \n",
       "1         None       None       None    sem_fila       28/06/2021   \n",
       "2     02517070   39500236   39660247    sem_fila       28/06/2021   \n",
       "3         None       None       None    sem_fila       28/06/2021   \n",
       "4         None       None       None    sem_fila       28/06/2021   \n",
       "...        ...        ...        ...         ...              ...   \n",
       "2071  04304110   55941532       None    sem_fila       28/06/2021   \n",
       "2072  04065004   55810426       None  fila_media       28/06/2021   \n",
       "2073  04771180   56815520   56870639  fila_media       28/06/2021   \n",
       "2074  05749280   58438340   58438460    sem_fila       28/06/2021   \n",
       "2079      None       None       None    sem_fila       28/06/2021   \n",
       "\n",
       "     horario_atualizacao horario_aproximado  situacao_valor  \n",
       "0                  12:56              13:00               0  \n",
       "1                  13:00              13:00               0  \n",
       "2                  13:00              13:00               0  \n",
       "3                  12:55              13:00               0  \n",
       "4                  12:51              13:00               0  \n",
       "...                  ...                ...             ...  \n",
       "2071               16:48              17:00               0  \n",
       "2072               16:57              17:00               2  \n",
       "2073               16:53              17:00               2  \n",
       "2074               16:53              17:00               0  \n",
       "2079               16:50              17:00               0  \n",
       "\n",
       "[1428 rows x 12 columns]"
      ],
      "text/html": "<div>\n<style scoped>\n    .dataframe tbody tr th:only-of-type {\n        vertical-align: middle;\n    }\n\n    .dataframe tbody tr th {\n        vertical-align: top;\n    }\n\n    .dataframe thead th {\n        text-align: right;\n    }\n</style>\n<table border=\"1\" class=\"dataframe\">\n  <thead>\n    <tr style=\"text-align: right;\">\n      <th></th>\n      <th>categoria</th>\n      <th>titulo</th>\n      <th>modalidade</th>\n      <th>endereco</th>\n      <th>cep</th>\n      <th>telefone_1</th>\n      <th>telefone_2</th>\n      <th>situacao</th>\n      <th>data_atualizacao</th>\n      <th>horario_atualizacao</th>\n      <th>horario_aproximado</th>\n      <th>situacao_valor</th>\n    </tr>\n  </thead>\n  <tbody>\n    <tr>\n      <th>0</th>\n      <td>posto volante</td>\n      <td>ama/ubs integrada jardim paulistano / igreja b...</td>\n      <td>post_volante</td>\n      <td>igreja r. aparecida do taboado,505 - jd paulis...</td>\n      <td>None</td>\n      <td>None</td>\n      <td>None</td>\n      <td>sem_fila</td>\n      <td>28/06/2021</td>\n      <td>12:56</td>\n      <td>13:00</td>\n      <td>0</td>\n    </tr>\n    <tr>\n      <th>1</th>\n      <td>posto volante</td>\n      <td>ubs vila terezinha / creche batuira</td>\n      <td>post_volante</td>\n      <td>creche batuira r. jorge píres ramalho, 70 - vi...</td>\n      <td>None</td>\n      <td>None</td>\n      <td>None</td>\n      <td>sem_fila</td>\n      <td>28/06/2021</td>\n      <td>13:00</td>\n      <td>13:00</td>\n      <td>0</td>\n    </tr>\n    <tr>\n      <th>2</th>\n      <td>posto volante</td>\n      <td>ubs casa verde / paróquia nossa senhora das dores</td>\n      <td>post_volante</td>\n      <td>r. antonieta, 19 - casa verde baixa</td>\n      <td>02517070</td>\n      <td>39500236</td>\n      <td>39660247</td>\n      <td>sem_fila</td>\n      <td>28/06/2021</td>\n      <td>13:00</td>\n      <td>13:00</td>\n      <td>0</td>\n    </tr>\n    <tr>\n      <th>3</th>\n      <td>posto volante</td>\n      <td>posto volante center norte</td>\n      <td>post_volante</td>\n      <td>rua otto baumgart, 500</td>\n      <td>None</td>\n      <td>None</td>\n      <td>None</td>\n      <td>sem_fila</td>\n      <td>28/06/2021</td>\n      <td>12:55</td>\n      <td>13:00</td>\n      <td>0</td>\n    </tr>\n    <tr>\n      <th>4</th>\n      <td>posto volante</td>\n      <td>shopping metrô santa cruz</td>\n      <td>post_volante</td>\n      <td>rua domingos de morais (acesso pela externa)</td>\n      <td>None</td>\n      <td>None</td>\n      <td>None</td>\n      <td>sem_fila</td>\n      <td>28/06/2021</td>\n      <td>12:51</td>\n      <td>13:00</td>\n      <td>0</td>\n    </tr>\n    <tr>\n      <th>...</th>\n      <td>...</td>\n      <td>...</td>\n      <td>...</td>\n      <td>...</td>\n      <td>...</td>\n      <td>...</td>\n      <td>...</td>\n      <td>...</td>\n      <td>...</td>\n      <td>...</td>\n      <td>...</td>\n      <td>...</td>\n    </tr>\n    <tr>\n      <th>2071</th>\n      <td>sul</td>\n      <td>ubs parque imperial - prof. manoel a. s. saragoça</td>\n      <td>posto_fixo</td>\n      <td>r. major freire, 510 - vila monte alegre</td>\n      <td>04304110</td>\n      <td>55941532</td>\n      <td>None</td>\n      <td>sem_fila</td>\n      <td>28/06/2021</td>\n      <td>16:48</td>\n      <td>17:00</td>\n      <td>0</td>\n    </tr>\n    <tr>\n      <th>2072</th>\n      <td>sul</td>\n      <td>ubs prof. milton santos</td>\n      <td>posto_fixo</td>\n      <td>av. ceci, 2249 - planalto paulista</td>\n      <td>04065004</td>\n      <td>55810426</td>\n      <td>None</td>\n      <td>fila_media</td>\n      <td>28/06/2021</td>\n      <td>16:57</td>\n      <td>17:00</td>\n      <td>2</td>\n    </tr>\n    <tr>\n      <th>2073</th>\n      <td>sul</td>\n      <td>ubs veleiros</td>\n      <td>posto_fixo</td>\n      <td>av. clara mantelli, 185 - veleiros</td>\n      <td>04771180</td>\n      <td>56815520</td>\n      <td>56870639</td>\n      <td>fila_media</td>\n      <td>28/06/2021</td>\n      <td>16:53</td>\n      <td>17:00</td>\n      <td>2</td>\n    </tr>\n    <tr>\n      <th>2074</th>\n      <td>sul</td>\n      <td>ubs jardim das palmas</td>\n      <td>posto_fixo</td>\n      <td>r. francisco de sales, 10 - jd das palmas</td>\n      <td>05749280</td>\n      <td>58438340</td>\n      <td>58438460</td>\n      <td>sem_fila</td>\n      <td>28/06/2021</td>\n      <td>16:53</td>\n      <td>17:00</td>\n      <td>0</td>\n    </tr>\n    <tr>\n      <th>2079</th>\n      <td>sul</td>\n      <td>crhmtpis bosque da saúde</td>\n      <td>posto_fixo</td>\n      <td>rua joão baptistussi, 55</td>\n      <td>None</td>\n      <td>None</td>\n      <td>None</td>\n      <td>sem_fila</td>\n      <td>28/06/2021</td>\n      <td>16:50</td>\n      <td>17:00</td>\n      <td>0</td>\n    </tr>\n  </tbody>\n</table>\n<p>1428 rows × 12 columns</p>\n</div>"
     },
     "metadata": {},
     "execution_count": 13
    }
   ],
   "source": [
    "potuacao_por_lotacao = {\n",
    "    'sem_fila': 0,\n",
    "    'fila_pequena': 1,\n",
    "    'fila_media': 2,\n",
    "    'fila_grande': 3,\n",
    "    'nao_funcionando': 0\n",
    "}\n",
    "\n",
    "df_filometro_sp['situacao_valor'] = df_filometro_sp['situacao'].apply(lambda valor: potuacao_por_lotacao[valor])\n",
    "df_filometro_sp = df_filometro_sp[df_filometro_sp['situacao'] != 'nao_funcionando']\n",
    "\n",
    "df_filometro_sp"
   ]
  },
  {
   "cell_type": "code",
   "execution_count": 15,
   "metadata": {},
   "outputs": [
    {
     "output_type": "execute_result",
     "data": {
      "text/plain": [
       "horario_aproximado                          12:00  13:00  14:00  15:00  16:00  \\\n",
       "titulo                                                                          \n",
       "ae dr. alexandre kalil yasbek - ceci          NaN    3.0    NaN    2.0    NaN   \n",
       "ae mooca - italo domingos le vocci            NaN    2.0    NaN    3.0    NaN   \n",
       "ae sao carlos                                 NaN    0.0    NaN    1.0    NaN   \n",
       "ae tucuruvi - prof armando de aguiar pupo     NaN    1.0    NaN    3.0    3.0   \n",
       "allianz park                                  NaN    NaN    2.0    1.0    0.0   \n",
       "...                                           ...    ...    ...    ...    ...   \n",
       "ubs vila santo estevão - woady jorge kalil    NaN    3.0    NaN    2.0    NaN   \n",
       "ubs vila terezinha / creche batuira           NaN    0.0    NaN    0.0    NaN   \n",
       "ubs vila zatt                                 NaN    0.0    1.0    NaN    NaN   \n",
       "ubs zumbi dos palmares                        NaN    1.0    NaN    1.0    NaN   \n",
       "ubs água funda                                NaN    0.0    NaN    1.0    NaN   \n",
       "\n",
       "horario_aproximado                          17:00  \n",
       "titulo                                             \n",
       "ae dr. alexandre kalil yasbek - ceci          1.0  \n",
       "ae mooca - italo domingos le vocci            NaN  \n",
       "ae sao carlos                                 NaN  \n",
       "ae tucuruvi - prof armando de aguiar pupo     NaN  \n",
       "allianz park                                  0.0  \n",
       "...                                           ...  \n",
       "ubs vila santo estevão - woady jorge kalil    2.0  \n",
       "ubs vila terezinha / creche batuira           NaN  \n",
       "ubs vila zatt                                 1.0  \n",
       "ubs zumbi dos palmares                        0.0  \n",
       "ubs água funda                                0.0  \n",
       "\n",
       "[519 rows x 6 columns]"
      ],
      "text/html": "<div>\n<style scoped>\n    .dataframe tbody tr th:only-of-type {\n        vertical-align: middle;\n    }\n\n    .dataframe tbody tr th {\n        vertical-align: top;\n    }\n\n    .dataframe thead th {\n        text-align: right;\n    }\n</style>\n<table border=\"1\" class=\"dataframe\">\n  <thead>\n    <tr style=\"text-align: right;\">\n      <th>horario_aproximado</th>\n      <th>12:00</th>\n      <th>13:00</th>\n      <th>14:00</th>\n      <th>15:00</th>\n      <th>16:00</th>\n      <th>17:00</th>\n    </tr>\n    <tr>\n      <th>titulo</th>\n      <th></th>\n      <th></th>\n      <th></th>\n      <th></th>\n      <th></th>\n      <th></th>\n    </tr>\n  </thead>\n  <tbody>\n    <tr>\n      <th>ae dr. alexandre kalil yasbek - ceci</th>\n      <td>NaN</td>\n      <td>3.0</td>\n      <td>NaN</td>\n      <td>2.0</td>\n      <td>NaN</td>\n      <td>1.0</td>\n    </tr>\n    <tr>\n      <th>ae mooca - italo domingos le vocci</th>\n      <td>NaN</td>\n      <td>2.0</td>\n      <td>NaN</td>\n      <td>3.0</td>\n      <td>NaN</td>\n      <td>NaN</td>\n    </tr>\n    <tr>\n      <th>ae sao carlos</th>\n      <td>NaN</td>\n      <td>0.0</td>\n      <td>NaN</td>\n      <td>1.0</td>\n      <td>NaN</td>\n      <td>NaN</td>\n    </tr>\n    <tr>\n      <th>ae tucuruvi - prof armando de aguiar pupo</th>\n      <td>NaN</td>\n      <td>1.0</td>\n      <td>NaN</td>\n      <td>3.0</td>\n      <td>3.0</td>\n      <td>NaN</td>\n    </tr>\n    <tr>\n      <th>allianz park</th>\n      <td>NaN</td>\n      <td>NaN</td>\n      <td>2.0</td>\n      <td>1.0</td>\n      <td>0.0</td>\n      <td>0.0</td>\n    </tr>\n    <tr>\n      <th>...</th>\n      <td>...</td>\n      <td>...</td>\n      <td>...</td>\n      <td>...</td>\n      <td>...</td>\n      <td>...</td>\n    </tr>\n    <tr>\n      <th>ubs vila santo estevão - woady jorge kalil</th>\n      <td>NaN</td>\n      <td>3.0</td>\n      <td>NaN</td>\n      <td>2.0</td>\n      <td>NaN</td>\n      <td>2.0</td>\n    </tr>\n    <tr>\n      <th>ubs vila terezinha / creche batuira</th>\n      <td>NaN</td>\n      <td>0.0</td>\n      <td>NaN</td>\n      <td>0.0</td>\n      <td>NaN</td>\n      <td>NaN</td>\n    </tr>\n    <tr>\n      <th>ubs vila zatt</th>\n      <td>NaN</td>\n      <td>0.0</td>\n      <td>1.0</td>\n      <td>NaN</td>\n      <td>NaN</td>\n      <td>1.0</td>\n    </tr>\n    <tr>\n      <th>ubs zumbi dos palmares</th>\n      <td>NaN</td>\n      <td>1.0</td>\n      <td>NaN</td>\n      <td>1.0</td>\n      <td>NaN</td>\n      <td>0.0</td>\n    </tr>\n    <tr>\n      <th>ubs água funda</th>\n      <td>NaN</td>\n      <td>0.0</td>\n      <td>NaN</td>\n      <td>1.0</td>\n      <td>NaN</td>\n      <td>0.0</td>\n    </tr>\n  </tbody>\n</table>\n<p>519 rows × 6 columns</p>\n</div>"
     },
     "metadata": {},
     "execution_count": 15
    }
   ],
   "source": [
    "df_filometro_sp_pivot_horarios = df_filometro_sp.pivot_table(\n",
    "    index='titulo',\n",
    "    columns='horario_aproximado',\n",
    "    values='situacao_valor',\n",
    "    aggfunc='mean'\n",
    ")\n",
    "\n",
    "df_filometro_sp_pivot_horarios"
   ]
  },
  {
   "cell_type": "code",
   "execution_count": 10,
   "metadata": {},
   "outputs": [
    {
     "output_type": "stream",
     "name": "stderr",
     "text": [
      "PandasGUI INFO — pandasgui.gui — Opening PandasGUI...\n",
      "PandasGUI WARNING — pandasgui.utility — In _9, converted columns to datetime: data_atualizacao, horario_atualizacao, horario_aproximado\n"
     ]
    },
    {
     "output_type": "execute_result",
     "data": {
      "text/plain": [
       "<pandasgui.gui.PandasGui at 0x2a88c763940>"
      ]
     },
     "metadata": {},
     "execution_count": 10
    }
   ],
   "source": [
    "import pandasgui\n",
    "\n",
    "#pandasgui.show(df_filometro_sp)"
   ]
  }
 ]
}